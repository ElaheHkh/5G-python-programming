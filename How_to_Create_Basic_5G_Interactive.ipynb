{
 "cells": [
  {
   "cell_type": "code",
   "execution_count": 1,
   "id": "5ae8b119",
   "metadata": {},
   "outputs": [
    {
     "name": "stdout",
     "output_type": "stream",
     "text": [
      "Enter the 5G Channel Bandwidth (MH): 100\n",
      "Enter the subCarrier spacing (KHz): 30\n",
      "Enter the number of MIMO layer: 5\n",
      "Available Number of PRBs is:  273\n",
      "Maximum Throughput for this configuration is:  2133.768\n"
     ]
    }
   ],
   "source": [
    "import math\n",
    "input1= input( \"Enter the 5G Channel Bandwidth (MH): \")\n",
    "input2= input( \"Enter the subCarrier spacing (KHz): \")\n",
    "input3= input( \"Enter the number of MIMO layer: \")\n",
    "\n",
    "x= int(input1)*1000/ int(input2)/12\n",
    "NumPRBs = x-4\n",
    "NumPRBs= math.floor(NumPRBs)\n",
    "print (\"Available Number of PRBs is: \" , NumPRBs)\n",
    "DlSlots=1600\n",
    "Throughput = 977 * int (NumPRBs) * int (DlSlots) * int(input3)/1000/1000\n",
    "print(\"Maximum Throughput for this configuration is: \", Throughput)"
   ]
  }
 ],
 "metadata": {
  "kernelspec": {
   "display_name": "Python 3 (ipykernel)",
   "language": "python",
   "name": "python3"
  },
  "language_info": {
   "codemirror_mode": {
    "name": "ipython",
    "version": 3
   },
   "file_extension": ".py",
   "mimetype": "text/x-python",
   "name": "python",
   "nbconvert_exporter": "python",
   "pygments_lexer": "ipython3",
   "version": "3.8.13"
  }
 },
 "nbformat": 4,
 "nbformat_minor": 5
}

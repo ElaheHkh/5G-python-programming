{
 "cells": [
  {
   "cell_type": "code",
   "execution_count": 1,
   "id": "ad9bad39",
   "metadata": {},
   "outputs": [
    {
     "name": "stdout",
     "output_type": "stream",
     "text": [
      "\n",
      " Total Data Resource Elements:  132\n",
      "\n",
      " Data carried in this Resource Block over one slot:  977 Bits\n",
      "\n",
      " Number of Resource Blocks in 100MHz:  277\n",
      "\n",
      " 4 RBs are used as guard\n",
      "\n",
      " Total Number of Slots available in one second:  2000.0 Slots\n",
      "\n",
      " Downlink Slots:  1600\n",
      "\n",
      " 5G Throughput:  1627  Mbps\n"
     ]
    }
   ],
   "source": [
    "import math\n",
    "SubcarriersNumber = 12\n",
    "\n",
    "SymbolsNumber = 14\n",
    "\n",
    "SymbolsForData = 11 \n",
    "SymbolsForDMRS = 2\n",
    "SymbolsForPDCCH =1\n",
    "\n",
    "# =============================   Total Data Resource Elements ================================\n",
    "\n",
    "TotalDataResourceElements = SubcarriersNumber* SymbolsForData \n",
    "print(\"\\n Total Data Resource Elements: \", TotalDataResourceElements )\n",
    "\n",
    "MaximumBitsperSymbol = 7.4063 #(256QAM)\n",
    "\n",
    "# =============================   Data carried in this Resource Block over one slot ===========\n",
    "\n",
    "DatacarriedOverOneSlot = math.floor(132 * 7.4063) # = 977 Bits in 0.5ms\n",
    "print (\"\\n Data carried in this Resource Block over one slot: \", DatacarriedOverOneSlot,\"Bits\")\n",
    "\n",
    "# =============================   Number of Resource Blocks in 100MHz =========================\n",
    "\n",
    "NumberOfResourceBlocks = math.floor(100000 /360)    #  in 100MHz => 100,000 KHz/360 KHz = 277  (273 are used, 4 RBs are used as guard)\n",
    "print (\"\\n Number of Resource Blocks in 100MHz: \", NumberOfResourceBlocks )\n",
    "print (\"\\n 4 RBs are used as guard\")\n",
    "\n",
    "# =============================================================================================   \n",
    "\n",
    "Guard = 4\n",
    "\n",
    "# =============================   Total Number of Slots available in one second =============== \n",
    "\n",
    "TotalNumberOfSlotsAvailableOneSecond = 1000/0.5 # 1000 ms / 0.5ms = 2000 slots\n",
    "print (\"\\n Total Number of Slots available in one second: \", TotalNumberOfSlotsAvailableOneSecond , \"Slots\")\n",
    "\n",
    "# =============================================================================================   \n",
    "\n",
    "DL = 4\n",
    "UL = 1\n",
    "\n",
    "# =============================   Downlink Slots ==============================================\n",
    "\n",
    "# Downlink Slots = 1600 (if DL/UL Ratio is 4:1) or 1500 (if DL/UL Ratio is 3:1)\n",
    "\n",
    "if (DL/UL == 4):\n",
    "    DownlinkSlots = 1600\n",
    "elif (DL/UL == 3):\n",
    "    DownlinkSlots= 1500 \n",
    "print (\"\\n Downlink Slots: \", DownlinkSlots)    \n",
    "# =============================  Maximum Number of MIMO layers ================================\n",
    "\n",
    "MaximumNumberOfMIMOlayers=4\n",
    "\n",
    "# =============================  5G Throughput ================================================\n",
    "\n",
    "ThroughputOf5G = DatacarriedOverOneSlot * (NumberOfResourceBlocks-Guard)*DownlinkSlots* MaximumNumberOfMIMOlayers /(1024*1024)\n",
    "ThroughputOf5G = math.floor(ThroughputOf5G)\n",
    "print(\"\\n 5G Throughput: \" , ThroughputOf5G , \" Mbps\")\n",
    "#977 bits x 273 RBs x 1600 slots x 4 layers /1024/1024 = 1627 Mbps\n",
    "\n"
   ]
  },
  {
   "cell_type": "code",
   "execution_count": null,
   "id": "54638636",
   "metadata": {},
   "outputs": [],
   "source": []
  }
 ],
 "metadata": {
  "kernelspec": {
   "display_name": "Python 3 (ipykernel)",
   "language": "python",
   "name": "python3"
  },
  "language_info": {
   "codemirror_mode": {
    "name": "ipython",
    "version": 3
   },
   "file_extension": ".py",
   "mimetype": "text/x-python",
   "name": "python",
   "nbconvert_exporter": "python",
   "pygments_lexer": "ipython3",
   "version": "3.8.13"
  }
 },
 "nbformat": 4,
 "nbformat_minor": 5
}

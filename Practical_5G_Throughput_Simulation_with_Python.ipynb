{
 "cells": [
  {
   "cell_type": "code",
   "execution_count": 1,
   "id": "1087b0a4",
   "metadata": {},
   "outputs": [
    {
     "name": "stdout",
     "output_type": "stream",
     "text": [
      "Enter the 5G Channel Bandwidth (MH): 100\n",
      "Enter the subCarrier spacing (KHz): 30\n",
      "Enter the number of MIMO layer: 4\n",
      "Choose Input - 0 for CQI & 1 for MCS: 1\n",
      "Enter the corresponding CQI (0-15) or MCS Index  (0-27): 23\n",
      "Enter the Block Error Rate (Percentage): 30\n",
      "Available Number of PRBs is:  273\n",
      "Maximum Throughput for this configuration is:  1194.91008\n"
     ]
    }
   ],
   "source": [
    "import math\n",
    "input1= input( \"Enter the 5G Channel Bandwidth (MH): \")\n",
    "input2= input( \"Enter the subCarrier spacing (KHz): \")\n",
    "MimoLayers= input( \"Enter the number of MIMO layer: \")\n",
    "#McsIndex= input( \"Enter the MCS Index (0-27): \")\n",
    "Choice= input( \"Choose Input - 0 for CQI & 1 for MCS: \")\n",
    "Index= input( \"Enter the corresponding CQI (0-15) or MCS Index  (0-27): \")\n",
    "BlerTarget= input ('Enter the Block Error Rate (Percentage): ')\n",
    "\n",
    "x= int(input1)*1000/ int(input2)/12\n",
    "NumPRBs = x-4\n",
    "NumPRBs= math.floor(NumPRBs)\n",
    "print (\"Available Number of PRBs is: \" , NumPRBs)\n",
    "DlSlots=1600\n",
    "\n",
    "SpecEffMcs= [0.2344, 0.3770, 0.6061, 0.8770, 1.1758, 1.4766, 1.6953, 1.9141, 2.1602, 2.4063, 2.5703, 2.7305, 3.0293, 3.3223, 3.6094, 3.9023, 4.2129,4.5234, 4.8164, 5.1152, 5.332, 5.5547,5.8906,6.2266, 6.5703, 6.9141, 7.1602, 7.4063]\n",
    "SpecEffCqi =[0.1523, 0.3770, 0.8770, 1.4766, 1.9141, 2.4063, 2.7305, 3.3223, 3.9023, 4.5234, 5.1152, 5.5547, 6.9141,7.4063]\n",
    "if int(Choice)==0:\n",
    "    y=SpecEffCqi[int(Index)]\n",
    "elif int(Choice)==1:\n",
    "    y= SpecEffMcs[int(Index)]\n",
    "\n",
    "#print(\"MCS Spectral Efficiency is: \" + str(y))\n",
    "\n",
    "TbSize = 132 *y\n",
    "TbSize = math.floor(TbSize)\n",
    "\n",
    "\n",
    "\n",
    "Throughput = 977 * int (NumPRBs) * int (DlSlots) * int(MimoLayers)* ((100-int(BlerTarget))/100)/1000/1000\n",
    "print(\"Maximum Throughput for this configuration is: \", Throughput)\n"
   ]
  },
  {
   "cell_type": "code",
   "execution_count": null,
   "id": "077b20d9",
   "metadata": {},
   "outputs": [],
   "source": []
  },
  {
   "cell_type": "code",
   "execution_count": null,
   "id": "a3eb9b68",
   "metadata": {},
   "outputs": [],
   "source": []
  }
 ],
 "metadata": {
  "kernelspec": {
   "display_name": "Python 3 (ipykernel)",
   "language": "python",
   "name": "python3"
  },
  "language_info": {
   "codemirror_mode": {
    "name": "ipython",
    "version": 3
   },
   "file_extension": ".py",
   "mimetype": "text/x-python",
   "name": "python",
   "nbconvert_exporter": "python",
   "pygments_lexer": "ipython3",
   "version": "3.8.13"
  }
 },
 "nbformat": 4,
 "nbformat_minor": 5
}
